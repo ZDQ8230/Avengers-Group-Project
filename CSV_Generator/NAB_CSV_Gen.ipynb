{
  "nbformat": 4,
  "nbformat_minor": 0,
  "metadata": {
    "colab": {
      "name": "NAB_CSV_Gen.ipynb",
      "provenance": [],
      "collapsed_sections": []
    },
    "kernelspec": {
      "name": "python3",
      "display_name": "Python 3"
    },
    "language_info": {
      "name": "python"
    }
  },
  "cells": [
    {
      "cell_type": "code",
      "execution_count": 1,
      "metadata": {
        "id": "-jemdYSdTYN-",
        "colab": {
          "base_uri": "https://localhost:8080/"
        },
        "outputId": "7aab0062-051f-4ed6-fc0f-63c9aaa53570"
      },
      "outputs": [
        {
          "output_type": "stream",
          "name": "stdout",
          "text": [
            "Looking in indexes: https://pypi.org/simple, https://us-python.pkg.dev/colab-wheels/public/simple/\n",
            "Requirement already satisfied: faker in /usr/local/lib/python3.7/dist-packages (13.15.1)\n",
            "Requirement already satisfied: python-dateutil>=2.4 in /usr/local/lib/python3.7/dist-packages (from faker) (2.8.2)\n",
            "Requirement already satisfied: typing-extensions>=3.10.0.2 in /usr/local/lib/python3.7/dist-packages (from faker) (4.1.1)\n",
            "Requirement already satisfied: six>=1.5 in /usr/local/lib/python3.7/dist-packages (from python-dateutil>=2.4->faker) (1.15.0)\n"
          ]
        }
      ],
      "source": [
        "#Install and run libraries\n",
        "\n",
        "# %%bash\n",
        "!pip install faker\n",
        "\n",
        "from faker import Faker\n",
        "import random\n",
        "from datetime import datetime, timedelta\n",
        "import pandas as pd"
      ]
    },
    {
      "cell_type": "code",
      "source": [
        "#Create printing function\n",
        "def csv_gen_nab(csv_number):\n",
        "\n",
        "  #Initialise the count\n",
        "  count = 0\n",
        "\n",
        "  #Loop to create multiple CSV files\n",
        "  for _ in range(csv_number):\n",
        "    count += 1\n",
        "\n",
        "    # Initialise Faker to create fake data\n",
        "    fake = Faker()\n",
        "\n",
        "    #Create a random row length of csv file\n",
        "    row_length = random.randint(100,1000)\n",
        "\n",
        "    #Initialise fake starting date\n",
        "    date = fake.date_between_dates(date_start=datetime(2015,1,1), date_end=datetime(2022,12,31))\n",
        "\n",
        "    #Initialise fake starting balance\n",
        "    start_balance = round(random.uniform(-10000,10000),2)\n",
        "\n",
        "    #Initialise account number\n",
        "    account_number = random.randrange(1, 10**9)\n",
        "\n",
        "    #Initialise a dataframe of Australian suburbs\n",
        "    # sub_df = pd.read_csv(\"./aus_suburbs.csv\")\n",
        "\n",
        "\n",
        "    #Initialise lists for all columns\n",
        "    dates = []\n",
        "    transaction = []\n",
        "    account_no = []\n",
        "    categories = []\n",
        "    transaction_type = []\n",
        "    categories_list = [\"Financial\",\"Bills\",\"Other Income\",\"Uncategorised\"]\n",
        "    transaction_type_list = [\"INTER-BANK CREDIT\", \"AUTOMATIC DRAWING\", \"INTER-BANK CREDIT\", \"TRANSFER DEBIT\"]\n",
        "\n",
        "    # #Create a list of dates\n",
        "    for _ in range(row_length):\n",
        "        \n",
        "        #Set random transaction frequency\n",
        "        interval = random.randint(0,3)\n",
        "        \n",
        "        #Create additional fake date\n",
        "        day_spend = date + timedelta(days=interval)\n",
        "        \n",
        "        #If fake date is greater than original date then new date is initialised\n",
        "        if day_spend > date:\n",
        "            date = day_spend\n",
        "            \n",
        "        #Write to list\n",
        "        dates.append(day_spend)\n",
        "        \n",
        "        #Create a list of transaction between -2000 and 200 and add it to the transaction list\n",
        "        x = float (round(random.uniform(-2000,2000),2))\n",
        "\n",
        "        #Write to list of transactions\n",
        "        transaction.append(x)\n",
        "\n",
        "        #Create account number column\n",
        "        account_no.append(account_number)\n",
        "\n",
        "        #Populate the category column\n",
        "        y = random.choice(categories_list)\n",
        "        categories.append(y)\n",
        "\n",
        "        #Populate the transaction type column\n",
        "        z = random.choice(transaction_type_list)\n",
        "        transaction_type.append(z)\n",
        "\n",
        "    # Initialise Description field\n",
        "    description = []\n",
        "\n",
        "    #Create random Card number for Transactions\n",
        "    card_no = random.randrange(1, 10**4)\n",
        "\n",
        "    #Create a list of company names\n",
        "    for _ in range(row_length):\n",
        "\n",
        "        #Set random types of transactions e.g TFER\n",
        "        tx_type = random.randint(0,1)\n",
        "\n",
        "        #Conditional Formatting for Tx type\n",
        "        if tx_type == 0:\n",
        "          business = fake.company().upper().replace(\",\",\"\")\n",
        "          company = f\"{random.randrange(1, 10**15)} {business} \"\n",
        "\n",
        "        if tx_type == 1:\n",
        "          company = fake.company().replace(\",\",\"\")\n",
        "\n",
        "        #Create Fake Company Name within the loop bounds of the Row length\n",
        "        description.append(company)\n",
        "        \n",
        "    #initialise balance column\n",
        "    balance = []\n",
        "\n",
        "    #Create a balance column\n",
        "    for _ in transaction:\n",
        "      start_balance += _\n",
        "\n",
        "      balance.append(start_balance)\n",
        "    #Create a pandas DataFrame to contain the values\n",
        "    df = pd.DataFrame(list(zip(dates, transaction, account_no, transaction_type, description , balance, categories)),\n",
        "                  columns =['Date', 'Amount', 'Account Number','Transaction Type', 'Transaction Details','Balance', 'Category'])\n",
        "\n",
        "    #Insert blank columns to match CSV type\n",
        "    df.insert(3,\"\", \"\")\n",
        "    df.insert(8,\"Merchants Name\", \" \")\n",
        "\n",
        "    # #Change to relevant Date format\n",
        "    df[\"Date\"] = pd.to_datetime(df[\"Date\"])\n",
        "    # #Use 23-Dec-2022 type date\n",
        "    df[\"Date\"] = df[\"Date\"].dt.strftime('%d-%b-%y').copy()\n",
        "\n",
        "    # # Display the pandas DataFrame\n",
        "    # df\n",
        "\n",
        "    # Print DataFrame to CSV and skip index and header\n",
        "    df.to_csv(f'NAB_Test_{count}.csv', \n",
        "              index=False , \n",
        "              header=True,)"
      ],
      "metadata": {
        "id": "OqriJ6xBTpBO"
      },
      "execution_count": 4,
      "outputs": []
    },
    {
      "cell_type": "code",
      "source": [
        "csv_gen_nab(5)"
      ],
      "metadata": {
        "id": "0wP8d3aDWP-n"
      },
      "execution_count": 5,
      "outputs": []
    },
    {
      "cell_type": "code",
      "source": [
        "# # Faker Data Types for banking csv generator test\n",
        "# for _ in range(5):    \n",
        "#     print(fake.bs())\n",
        "#     print(fake.catch_phrase())\n",
        "#     print(fake.company())\n",
        "#     print(fake.job())\n",
        "#     print(fake.email())\n",
        "#     print(\"\\n\")"
      ],
      "metadata": {
        "id": "Tvh691orUDWT"
      },
      "execution_count": null,
      "outputs": []
    }
  ]
}