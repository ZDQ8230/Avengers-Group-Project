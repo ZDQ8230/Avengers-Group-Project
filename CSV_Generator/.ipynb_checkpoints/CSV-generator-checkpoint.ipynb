{
 "cells": [
  {
   "cell_type": "markdown",
   "id": "f7f5f870-b5be-4161-b543-0c7536fb36b1",
   "metadata": {},
   "source": [
    "# Creating Fake CSV to Protect the Information of The Dev Team\n",
    "[youtube link for faker](https://www.youtube.com/watch?v=WxDA-t7UmPM)"
   ]
  },
  {
   "cell_type": "code",
   "execution_count": 1,
   "id": "b2a67fb1-a7a5-466f-905c-3e78f9070146",
   "metadata": {},
   "outputs": [],
   "source": [
    "#Install and run libraries\n",
    "\n",
    "# %%bash\n",
    "# pip install faker\n",
    "\n",
    "from faker import Faker\n",
    "import random\n",
    "from datetime import datetime, timedelta\n",
    "import pandas as pd"
   ]
  },
  {
   "cell_type": "markdown",
   "id": "6d527e2a-8060-48b5-84ef-c73a40f86a6f",
   "metadata": {},
   "source": [
    "## Generate Random Data"
   ]
  },
  {
   "cell_type": "code",
   "execution_count": 2,
   "id": "9bf5ed2e-e7ab-4ea4-b1b2-66bfdc587e36",
   "metadata": {},
   "outputs": [],
   "source": [
    "# Initialise Faker to create fake data\n",
    "fake = Faker()\n",
    "\n",
    "#Create a random row length of csv file\n",
    "row_length = random.randint(100,1000)"
   ]
  },
  {
   "cell_type": "code",
   "execution_count": 2,
   "id": "d44426d3-dd96-4448-a8ba-a2c3634473a3",
   "metadata": {},
   "outputs": [],
   "source": [
    "#Initialise fake starting date\n",
    "date = fake.date_between_dates(date_start=datetime(2015,1,1), date_end=datetime(2022,12,31))\n",
    "\n",
    "#Initialise dates list\n",
    "dates = []\n",
    "\n",
    "# #Create a list of dates\n",
    "for _ in range(row_length):\n",
    "    \n",
    "    #Set random transaction frequency\n",
    "    interval = random.randint(0,3)\n",
    "    \n",
    "    #Create additional fake date\n",
    "    day_spend = date + timedelta(days=interval)\n",
    "    \n",
    "    #If fake date is greater than original date then new date is initialised\n",
    "    if day_spend > date:\n",
    "        date = day_spend\n",
    "        \n",
    "    #Write to list\n",
    "    dates.append(day_spend)"
   ]
  },
  {
   "cell_type": "code",
   "execution_count": 2,
   "id": "c15a8bcb-748c-4ea1-89ed-6ba3fd163eeb",
   "metadata": {},
   "outputs": [],
   "source": [
    "# Initialise Description field\n",
    "description = []\n",
    "\n",
    "#Create a list of company names\n",
    "for _ in range(row_length):\n",
    "    \n",
    "    #Create Fake Company Name within the loop bounds of the Row length\n",
    "    description.append(fake.company())"
   ]
  },
  {
   "cell_type": "code",
   "execution_count": 2,
   "id": "a698b196-a54e-4669-8af1-f3f22ca39aee",
   "metadata": {},
   "outputs": [],
   "source": [
    "#Initialise transactions\n",
    "transaction = []\n",
    "\n",
    "#Create a list of random numbers as transactions\n",
    "for _ in range(row_length):\n",
    "    \n",
    "    #Create a list of transaction between -2000 and 200 and add it to the transaction list\n",
    "    x = random.randint(-2000,2000)\n",
    "    transaction.append(x)"
   ]
  },
  {
   "cell_type": "code",
   "execution_count": 2,
   "id": "92ca35ed-c73b-4c4d-8ab9-0bf6b0c6d227",
   "metadata": {},
   "outputs": [
    {
     "data": {
      "text/html": [
       "<div>\n",
       "<style scoped>\n",
       "    .dataframe tbody tr th:only-of-type {\n",
       "        vertical-align: middle;\n",
       "    }\n",
       "\n",
       "    .dataframe tbody tr th {\n",
       "        vertical-align: top;\n",
       "    }\n",
       "\n",
       "    .dataframe thead th {\n",
       "        text-align: right;\n",
       "    }\n",
       "</style>\n",
       "<table border=\"1\" class=\"dataframe\">\n",
       "  <thead>\n",
       "    <tr style=\"text-align: right;\">\n",
       "      <th></th>\n",
       "      <th>Date</th>\n",
       "      <th>Description</th>\n",
       "      <th>Transaction</th>\n",
       "    </tr>\n",
       "  </thead>\n",
       "  <tbody>\n",
       "    <tr>\n",
       "      <th>0</th>\n",
       "      <td>2016-12-07</td>\n",
       "      <td>Vang-Barnett</td>\n",
       "      <td>-1543</td>\n",
       "    </tr>\n",
       "    <tr>\n",
       "      <th>1</th>\n",
       "      <td>2016-12-09</td>\n",
       "      <td>Holmes, West and Payne</td>\n",
       "      <td>-248</td>\n",
       "    </tr>\n",
       "    <tr>\n",
       "      <th>2</th>\n",
       "      <td>2016-12-10</td>\n",
       "      <td>Lawson and Sons</td>\n",
       "      <td>72</td>\n",
       "    </tr>\n",
       "    <tr>\n",
       "      <th>3</th>\n",
       "      <td>2016-12-13</td>\n",
       "      <td>Gilbert-Walters</td>\n",
       "      <td>1513</td>\n",
       "    </tr>\n",
       "    <tr>\n",
       "      <th>4</th>\n",
       "      <td>2016-12-13</td>\n",
       "      <td>Prince LLC</td>\n",
       "      <td>1607</td>\n",
       "    </tr>\n",
       "    <tr>\n",
       "      <th>...</th>\n",
       "      <td>...</td>\n",
       "      <td>...</td>\n",
       "      <td>...</td>\n",
       "    </tr>\n",
       "    <tr>\n",
       "      <th>265</th>\n",
       "      <td>2018-01-02</td>\n",
       "      <td>Duncan-Mason</td>\n",
       "      <td>-889</td>\n",
       "    </tr>\n",
       "    <tr>\n",
       "      <th>266</th>\n",
       "      <td>2018-01-03</td>\n",
       "      <td>Gonzalez, Murphy and Cox</td>\n",
       "      <td>26</td>\n",
       "    </tr>\n",
       "    <tr>\n",
       "      <th>267</th>\n",
       "      <td>2018-01-05</td>\n",
       "      <td>Hill-Webb</td>\n",
       "      <td>6</td>\n",
       "    </tr>\n",
       "    <tr>\n",
       "      <th>268</th>\n",
       "      <td>2018-01-08</td>\n",
       "      <td>Horne-Monroe</td>\n",
       "      <td>656</td>\n",
       "    </tr>\n",
       "    <tr>\n",
       "      <th>269</th>\n",
       "      <td>2018-01-08</td>\n",
       "      <td>Hobbs, Evans and Ross</td>\n",
       "      <td>-1492</td>\n",
       "    </tr>\n",
       "  </tbody>\n",
       "</table>\n",
       "<p>270 rows × 3 columns</p>\n",
       "</div>"
      ],
      "text/plain": [
       "           Date               Description  Transaction\n",
       "0    2016-12-07              Vang-Barnett        -1543\n",
       "1    2016-12-09    Holmes, West and Payne         -248\n",
       "2    2016-12-10           Lawson and Sons           72\n",
       "3    2016-12-13           Gilbert-Walters         1513\n",
       "4    2016-12-13                Prince LLC         1607\n",
       "..          ...                       ...          ...\n",
       "265  2018-01-02              Duncan-Mason         -889\n",
       "266  2018-01-03  Gonzalez, Murphy and Cox           26\n",
       "267  2018-01-05                 Hill-Webb            6\n",
       "268  2018-01-08              Horne-Monroe          656\n",
       "269  2018-01-08     Hobbs, Evans and Ross        -1492\n",
       "\n",
       "[270 rows x 3 columns]"
      ]
     },
     "execution_count": 2,
     "metadata": {},
     "output_type": "execute_result"
    }
   ],
   "source": [
    "#Create a pandas DataFrame to contain the values\n",
    "df = pd.DataFrame(list(zip(dates, description, transaction)),\n",
    "               columns =['Date', 'Description', 'Transaction'])\n",
    "\n",
    "# Display the pandas DataFrame\n",
    "df "
   ]
  },
  {
   "cell_type": "markdown",
   "id": "6bf29bfb-630e-4197-b7f8-e3b25ffe51c3",
   "metadata": {},
   "source": [
    "### Print the Data to basic CSV Format with Error Prone Data"
   ]
  },
  {
   "cell_type": "code",
   "execution_count": 3,
   "id": "9a9891b9-6f6a-420a-a45b-11a4e76fda2f",
   "metadata": {},
   "outputs": [],
   "source": [
    "# #Print DataFrame to CSV and skip index\n",
    "# df.to_csv('Test_1.csv', index=False)"
   ]
  },
  {
   "cell_type": "markdown",
   "id": "df4721bc-43a3-4fa1-8cd1-b339c0f8972d",
   "metadata": {},
   "source": [
    "### Faker Testing"
   ]
  },
  {
   "cell_type": "code",
   "execution_count": 4,
   "id": "92015649-10c4-46fd-bfc9-cef562b99a09",
   "metadata": {},
   "outputs": [],
   "source": [
    "# # Faker Data Types for banking csv generator test\n",
    "# for _ in range(5):    \n",
    "#     print(fake.bs())\n",
    "#     print(fake.catch_phrase())\n",
    "#     print(fake.company())\n",
    "#     print(fake.job())\n",
    "#     print(fake.email())\n",
    "#     print(\"\\n\")"
   ]
  }
 ],
 "metadata": {
  "kernelspec": {
   "display_name": "fintech",
   "language": "python",
   "name": "fintech"
  },
  "language_info": {
   "codemirror_mode": {
    "name": "ipython",
    "version": 3
   },
   "file_extension": ".py",
   "mimetype": "text/x-python",
   "name": "python",
   "nbconvert_exporter": "python",
   "pygments_lexer": "ipython3",
   "version": "3.7.13"
  }
 },
 "nbformat": 4,
 "nbformat_minor": 5
}
