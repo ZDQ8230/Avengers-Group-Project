{
 "cells": [
  {
   "cell_type": "code",
   "execution_count": 25,
   "id": "2dc0a322-38cc-43fe-b34d-4a9d99fd8263",
   "metadata": {},
   "outputs": [],
   "source": [
    "# #Creating Fake data\n",
    "# # https://www.youtube.com/watch?v=WxDA-t7UmPM\n",
    "\n",
    "# %%bash\n",
    "# pip install faker\n",
    "\n",
    "from faker import Faker\n",
    "import random\n"
   ]
  },
  {
   "cell_type": "code",
   "execution_count": 26,
   "id": "8ab0c03b-7743-4e5c-997c-a2eea3f6cc11",
   "metadata": {},
   "outputs": [],
   "source": [
    "# Initialise Faker \n",
    "fake = Faker()\n",
    "\n",
    "# # Faker Data Types for banking csv generator test\n",
    "# for _ in range(5):    \n",
    "#     print(fake.bs())\n",
    "#     print(fake.catch_phrase())\n",
    "#     print(fake.company())\n",
    "#     print(fake.job())\n",
    "#     print(fake.email())\n",
    "#     print(\"\\n\")"
   ]
  },
  {
   "cell_type": "code",
   "execution_count": 46,
   "id": "77e4008a-7f96-45b6-86d6-ed0d0f3f9a46",
   "metadata": {},
   "outputs": [
    {
     "data": {
      "text/plain": [
       "-1687.6014491131523"
      ]
     },
     "execution_count": 46,
     "metadata": {},
     "output_type": "execute_result"
    }
   ],
   "source": [
    "row_length = random.randint(100,1000)\n",
    "\n",
    "values = [random.randint]\n",
    "\n",
    "for _ in range(row_length):\n",
    "    _ =+ (random.uniform(-2000, 2000))\n",
    "    "
   ]
  },
  {
   "cell_type": "code",
   "execution_count": null,
   "id": "eb76afdb-3d1d-4f3e-9304-d64228bb8ac2",
   "metadata": {},
   "outputs": [],
   "source": []
  },
  {
   "cell_type": "code",
   "execution_count": null,
   "id": "66295cec-d278-49eb-bb94-307a08060a0c",
   "metadata": {},
   "outputs": [],
   "source": []
  },
  {
   "cell_type": "code",
   "execution_count": null,
   "id": "04fa2fcd-6abc-42b5-8f13-0b5306f2a01e",
   "metadata": {},
   "outputs": [],
   "source": []
  },
  {
   "cell_type": "code",
   "execution_count": null,
   "id": "2e590cb7-851d-4b90-9c6c-cb74c4edb0d1",
   "metadata": {},
   "outputs": [],
   "source": []
  },
  {
   "cell_type": "code",
   "execution_count": null,
   "id": "cb10f7d5-6791-4971-a104-e750f4f04094",
   "metadata": {},
   "outputs": [],
   "source": []
  },
  {
   "cell_type": "code",
   "execution_count": null,
   "id": "b011bc54-1979-4a53-953e-b5cc578e0ef2",
   "metadata": {},
   "outputs": [],
   "source": [
    "#Dictionary of lists format for CSV\n",
    "ING = {\n",
    "        \"Date\" :[],\n",
    "        \"Description\" : [],\n",
    "        \"Credit\" : [],\n",
    "        \"Debit\" : [],\n",
    "}\n",
    "\n",
    "ANZ = [\n",
    "    [],\n",
    "    [],\n",
    "    []\n",
    "]\n",
    "    \n",
    "    \n",
    "ST_GEORGE = {}"
   ]
  },
  {
   "cell_type": "markdown",
   "id": "4f90b52b-7aec-4805-9570-cbfb80ee281f",
   "metadata": {},
   "source": [
    "row = { Date, Description, Credit, Debit}"
   ]
  },
  {
   "cell_type": "markdown",
   "id": "f351e592-2313-4228-8d7e-c0cc3749a7e7",
   "metadata": {},
   "source": [
    "ING = {Date,Description,Credit,Debit,Balance\n",
    "30/06/2022,TRANSPORTFORNSW TAP - Visa Purchase - Receipt 127547In SYDNEY Date 28 Jun 2022 Card 462263xxxxxx8978,,-10.30,1190.18\n",
    "29/06/2022,\"Salary - Salary Deposit - Receipt 120837MR5L INVESTMENTS 01012025/202152 \",106.85,,1200.48\n",
    "29/06/2022,TRANSPORTFORNSW TAP - Visa Purchase - Receipt 140582In SYDNEY Date 27 Jun 2022 Card 462263xxxxxx8978,,-3.18,893.63\n",
    "28/06/2022,TRANSPORTFORNSW TAP - Visa Purchase - Receipt 186352In SYDNEY Date 26 Jun 2022 Card 462263xxxxxx8978,,-1.70,896.81\n",
    "27/06/2022,TRANSPORTFORNSW TAP - Visa Purchase - Receipt 134000In SYDNEY Date 25 Jun 2022 Card 462263xxxxxx8978,,-2.27,898.51\n",
    "27/06/2022,THAI PARAGON ENTERPR - Visa Purchase - Receipt 133999In NORTH STRATH Date 25 Jun 2022 Card 462263xxxxxx8978,,-29.35,900.78\n",
    "26/06/2022,TRANSPORTFORNSW TAP - Visa Purchase - Receipt 184000In SYDNEY Date 24 Jun 2022 Card 462263xxxxxx8978,,-9.10,930.13\n",
    "26/06/2022,NANDO'S CLARENCE ST 15 - Visa Purchase - Receipt 183999In Sydney Date 24 Jun 2022 Card 462263xxxxxx8978,,-19.35,939.23\n",
    "26/06/2022,TRANSPORTFORNSW TAP - Visa Purchase - Receipt 183998In SYDNEY Date 23 Jun 2022 Card 462263xxxxxx8978,,-10.30,958.58\n",
    "25/06/2022,McDonalds 951076 - Visa Purchase - Receipt 119499In DARLING HARB Date 23 Jun 2022 Card 462263xxxxxx8978,,-5.95,968.88\n",
    "24/06/2022,TRANSPORTFORNSW TAP - Visa Purchase - Receipt 168559In SYDNEY Date 22 Jun 2022 Card 462263xxxxxx8978,,-9.10,974.83}"
   ]
  }
 ],
 "metadata": {
  "kernelspec": {
   "display_name": "fintech",
   "language": "python",
   "name": "fintech"
  },
  "language_info": {
   "codemirror_mode": {
    "name": "ipython",
    "version": 3
   },
   "file_extension": ".py",
   "mimetype": "text/x-python",
   "name": "python",
   "nbconvert_exporter": "python",
   "pygments_lexer": "ipython3",
   "version": "3.7.13"
  }
 },
 "nbformat": 4,
 "nbformat_minor": 5
}
