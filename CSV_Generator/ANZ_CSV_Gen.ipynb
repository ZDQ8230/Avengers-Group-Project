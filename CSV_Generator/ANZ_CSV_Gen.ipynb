{
  "nbformat": 4,
  "nbformat_minor": 0,
  "metadata": {
    "colab": {
      "name": "ANZ_CSV_Gen.ipynb",
      "provenance": [],
      "collapsed_sections": []
    },
    "kernelspec": {
      "name": "python3",
      "display_name": "Python 3"
    },
    "language_info": {
      "name": "python"
    }
  },
  "cells": [
    {
      "cell_type": "code",
      "execution_count": 1,
      "metadata": {
        "id": "-jemdYSdTYN-",
        "colab": {
          "base_uri": "https://localhost:8080/"
        },
        "outputId": "c0ac568d-a928-4f22-f957-34aac6b081db"
      },
      "outputs": [
        {
          "output_type": "stream",
          "name": "stdout",
          "text": [
            "Looking in indexes: https://pypi.org/simple, https://us-python.pkg.dev/colab-wheels/public/simple/\n",
            "Collecting faker\n",
            "  Downloading Faker-13.15.1-py3-none-any.whl (1.6 MB)\n",
            "\u001b[K     |████████████████████████████████| 1.6 MB 4.3 MB/s \n",
            "\u001b[?25hRequirement already satisfied: python-dateutil>=2.4 in /usr/local/lib/python3.7/dist-packages (from faker) (2.8.2)\n",
            "Requirement already satisfied: typing-extensions>=3.10.0.2 in /usr/local/lib/python3.7/dist-packages (from faker) (4.1.1)\n",
            "Requirement already satisfied: six>=1.5 in /usr/local/lib/python3.7/dist-packages (from python-dateutil>=2.4->faker) (1.15.0)\n",
            "Installing collected packages: faker\n",
            "Successfully installed faker-13.15.1\n"
          ]
        }
      ],
      "source": [
        "#Install and run libraries\n",
        "\n",
        "# # %%bash\n",
        "# !pip install faker\n",
        "\n",
        "from faker import Faker\n",
        "import random\n",
        "from datetime import datetime, timedelta\n",
        "import pandas as pd"
      ]
    },
    {
      "cell_type": "code",
      "source": [
        "#Create a function to print multiple CSV\n",
        "def csv_gen_anz(csv_number):\n",
        "\n",
        "  #Initialise the count\n",
        "  count = 0\n",
        "\n",
        "  #Loop to create multiple CSV files\n",
        "  for _ in range(csv_number):\n",
        "    count += 1\n",
        "\n",
        "    # Initialise Faker to create fake data\n",
        "    fake = Faker()\n",
        "\n",
        "    #Create a random row length of csv file\n",
        "    row_length = random.randint(100,1000)\n",
        "\n",
        "    #Initialise fake starting date\n",
        "    date = fake.date_between_dates(date_start=datetime(2015,1,1), date_end=datetime(2022,12,31))\n",
        "\n",
        "    #Initialise fake starting balance\n",
        "    start_balance = round(random.uniform(-10000,10000),2)\n",
        "\n",
        "    #Initialise a dataframe of Australian suburbs\n",
        "    sub_df = pd.read_csv(\"./aus_suburbs.csv\")\n",
        "\n",
        "\n",
        "    #Initialise dates list and transactions dictionary\n",
        "    dates = []\n",
        "    transaction = []\n",
        "\n",
        "    # #Create a list of dates for the transactions\n",
        "    for _ in range(row_length):\n",
        "        \n",
        "        #Set random transaction frequency from 0-3 Tx per day\n",
        "        interval = random.randint(0,3)\n",
        "        \n",
        "        #Create the transaction dates and seperate by the random interval\n",
        "        day_spend = date + timedelta(days=interval)\n",
        "        \n",
        "        #If fake date is greater than original date then new date is initialised\n",
        "        if day_spend > date:\n",
        "            date = day_spend\n",
        "            \n",
        "        #Write to date list\n",
        "        dates.append(day_spend)\n",
        "        \n",
        "        #Create a list of transaction between -2000 and 200 and add it to the transaction list\n",
        "        x = float (round(random.uniform(-2000,2000),2))\n",
        "\n",
        "        #Write to transaction list\n",
        "        transaction.append(x)\n",
        "\n",
        "    # Initialise Description field/list\n",
        "    description = []\n",
        "\n",
        "    #Create random Card number for spending Transactions\n",
        "    card_no = random.randrange(1, 10**4)\n",
        "\n",
        "    #Create a list of random details for the description list\n",
        "    for _ in range(row_length):\n",
        "\n",
        "        #Set random types of transactions e.g TFER, EFTPOS, etc.\n",
        "        tx_type = random.randint(0,7)\n",
        "\n",
        "        # Use if conditions to define and fill the transaction data\n",
        "\n",
        "        #Conditional Formatting for Tx type based on ANZ data\n",
        "\n",
        "        #Transfer to\n",
        "        if tx_type == 0:\n",
        "          #Create random number with set length\n",
        "          company = f\"ANZ M-BANKING FUNDS TFER TRANSFER {random.randrange(1, 10**6)} TO {random.randrange(1, 10**15)} \"\n",
        "\n",
        "        #Transfer from\n",
        "        if tx_type == 1:\n",
        "          #Create random number with set length\n",
        "          company = f\"ANZ M-BANKING FUNDS TFER TRANSFER {random.randrange(1, 10**6)} FROM {random.randrange(1, 10**15)} \"\n",
        "\n",
        "        #Mobile Banking Payment\n",
        "        if tx_type == 2:\n",
        "          #Create fake name, capalise and remove comma\n",
        "          name = fake.name().upper().replace(\",\",\"\")\n",
        "          #Create random number with set length\n",
        "          company = f\"ANZ MOBILE BANKING PAYMENT {random.randrange(1, 10**6)} TO {name} \"\n",
        "\n",
        "        #Visa Debit Purchase\n",
        "        if tx_type == 3:\n",
        "          #Create fake company name, capalise and remove comma\n",
        "          business = fake.company().upper().replace(\",\",\"\")\n",
        "          #Append a random Australian Suburb\n",
        "          suburb = sub_df.iloc[random.randint(1,15286)][0]\n",
        "          #Create Visa Debit Purchase with fake details\n",
        "          company = f\"VISA DEBIT PURCHASE CARD {card_no} {business} {suburb.upper()}\"\n",
        "\n",
        "        #Payment to Tx\n",
        "        if tx_type == 4:\n",
        "          #Create fake name, capalise and remove comma\n",
        "          name = fake.name().upper().replace(\",\",\"\")\n",
        "          company = f\"PAYMENT TO {name} \"\n",
        "\n",
        "        #Payment from Tx\n",
        "        if tx_type == 5:\n",
        "          #Create fake name, capalise and remove comma\n",
        "          name = fake.name().upper().replace(\",\",\"\")\n",
        "          company = f\"PAYMENT FROM {name} \"\n",
        "\n",
        "        #Transfer Tx\n",
        "        if tx_type == 6:\n",
        "          company = f\"ANZ INTERNET BANKING FUNDS TFER TRANSFER {random.randrange(1, 10**6)} FROM {random.randrange(1, 10**15)} \"\n",
        "\n",
        "        #Eftpos Tx\n",
        "        if tx_type == 7:\n",
        "          #Create fake company name, capalise and remove comma\n",
        "          business = fake.company().upper().replace(\",\",\"\")\n",
        "          #Append a random Australian Suburb\n",
        "          suburb = sub_df.iloc[random.randint(1,15286)][0]\n",
        "          #Define the description\n",
        "          company = f\" EFTPOS {business} {suburb.upper()}\"\n",
        "\n",
        "        #Create Fake Company Name within the loop bounds of the Row length and add to description list\n",
        "        description.append(company)\n",
        "\n",
        "\n",
        "    # #initialise balance column\n",
        "    # balance = []\n",
        "\n",
        "    # #Create a balance column\n",
        "    # for _ in transaction:\n",
        "    #   start_balance += _\n",
        "    #   balance.append(start_balance)\n",
        "\n",
        "\n",
        "    #Create a pandas DataFrame to contain the values\n",
        "    df = pd.DataFrame(list(zip(dates, transaction, description)))\n",
        "    #Change to relevant Date format\n",
        "    df[0] = pd.to_datetime(df[0])\n",
        "    #Use 23/12/2022 type date\n",
        "    df[0] = df[0].dt.strftime('%d/%m/%Y').copy()\n",
        "\n",
        "    # # Display the pandas DataFrame\n",
        "    # df\n",
        "\n",
        "    # Print DataFrame to CSV and skip index and header\n",
        "    df.to_csv(f'ANZ_Test_{count}.csv', \n",
        "              index=False , \n",
        "              header=False,)"
      ],
      "metadata": {
        "id": "OqriJ6xBTpBO"
      },
      "execution_count": 112,
      "outputs": []
    },
    {
      "cell_type": "code",
      "source": [
        "csv_gen_anz(5)"
      ],
      "metadata": {
        "id": "IH0SdBmtUB4y"
      },
      "execution_count": 113,
      "outputs": []
    },
    {
      "cell_type": "code",
      "source": [
        "# # Faker Data Types for banking csv generator test\n",
        "# for _ in range(5):    \n",
        "#     print(fake.bs())\n",
        "#     print(fake.catch_phrase())\n",
        "#     print(fake.company())\n",
        "#     print(fake.job())\n",
        "#     print(fake.email())\n",
        "#     print(\"\\n\")"
      ],
      "metadata": {
        "id": "Tvh691orUDWT"
      },
      "execution_count": 70,
      "outputs": []
    },
    {
      "cell_type": "code",
      "source": [
        ""
      ],
      "metadata": {
        "id": "wCYTxS1T1VdO"
      },
      "execution_count": null,
      "outputs": []
    }
  ]
}