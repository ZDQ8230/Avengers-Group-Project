{
 "cells": [
  {
   "cell_type": "code",
   "execution_count": null,
   "id": "abdf4e3e-ffb9-4e2b-9e3c-8a0fb0932b5e",
   "metadata": {},
   "outputs": [],
   "source": [
    "# Import libraries and dependencies\n",
    "import os\n",
    "import pandas as pd\n",
    "import alpaca_trade_api as tradeapi\n",
    "from MCForecastTools import MCSimulation"
   ]
  },
  {
   "cell_type": "code",
   "execution_count": null,
   "id": "ca749761-5bdf-4256-ae8b-4f693aab837e",
   "metadata": {},
   "outputs": [],
   "source": [
    "# Load .env enviroment variables\n",
    "from dotenv import load_dotenv\n",
    "load_dotenv()"
   ]
  },
  {
   "cell_type": "code",
   "execution_count": null,
   "id": "386bf4fd-3ce3-41c5-aa8a-8e90e7a4dab7",
   "metadata": {},
   "outputs": [],
   "source": [
    "# Set Alpaca API key and secret\n",
    "alpaca_api_key = os.getenv(\"ALPACA_API_KEY\")\n",
    "alpaca_secret_key = os.getenv(\"ALPACA_SECRET_KEY\")\n",
    "\n",
    "api = tradeapi.REST(\n",
    "    alpaca_api_key,\n",
    "    alpaca_secret_key,\n",
    "    api_version = \"v2\"\n",
    ")"
   ]
  },
  {
   "cell_type": "code",
   "execution_count": null,
   "id": "80ffafd1-f333-4731-b158-33e6ade640c7",
   "metadata": {},
   "outputs": [],
   "source": [
    "#Build the portfolio of the user and then use MCS to forecast the portfolio performance in \"years\"\n",
    "\n",
    "#Get Past 3 Year's Worth of \"Bond\" and \"Stock\" Price Data via Alpaca API Call\n",
    "# Set timeframe to \"1Day\"\n",
    "timeframe = \"1Day\"\n",
    "\n",
    "# Set start and end datetimes between now and 3 years ago.(Can modify this for a more reliable forecasting)\n",
    "start_date = pd.Timestamp(\"2017-05-01\", tz=\"America/New_York\").isoformat()\n",
    "end_date = pd.Timestamp(\"2020-05-01\", tz=\"America/New_York\").isoformat()\n",
    "\n",
    "# Set the ticker information (Choose 1 ticker for Bond and 1 ticker for stocks - index)\n",
    "tickers = [\"bond\",\"stock\"]\n",
    "\n",
    "# Get 3 year's worth of historical price data for \"Bond\" and \"Stock\" (Can modify this for a more reliable forecasting)\n",
    "df_ticker = api.get_bars(\n",
    "    tickers,\n",
    "    timeframe,\n",
    "    start=start_date,\n",
    "    end=end_date\n",
    ").df\n",
    "\n",
    "# Display sample data\n",
    "df_ticker.tail()"
   ]
  },
  {
   "cell_type": "code",
   "execution_count": null,
   "id": "00a4ddb5-75f2-4b86-868b-5f9356d88e7b",
   "metadata": {},
   "outputs": [],
   "source": [
    "# Reorganize the DataFrame\n",
    "# Separate ticker data\n",
    "bond = df_ticker[df_ticker['symbol']=='bond'].drop('symbol', axis=1)\n",
    "stock = df_ticker[df_ticker['symbol']=='stock'].drop('symbol', axis=1)\n",
    "\n",
    "# Concatenate the ticker DataFrames\n",
    "df_ticker = pd.concat([bond, stock], axis=1, keys=[\"bond\", \"stock\"])\n",
    "\n",
    "# Display sample data\n",
    "df_ticker.head()"
   ]
  },
  {
   "cell_type": "code",
   "execution_count": null,
   "id": "1fb1c01a-4c09-4bc8-b8c7-4d467af9a706",
   "metadata": {},
   "outputs": [],
   "source": [
    "#Set the weights for bond and stock, with the option for the user to choose their risk preference\n",
    "if riskpreference == \"Risk Seeker\":\n",
    "    stockweight = ((100 - age) + 10)*0.01\n",
    "    bondweight = 1 - stockweight\n",
    "elif riskpreference == \"Risk Neutral\":\n",
    "    stockweight = (100 - age)*0.01\n",
    "    bondweight = 1 -stockweight\n",
    "else\n",
    "    stockweight = ((100-age) - 10) * 0.01\n",
    "    bondweight = 1 - stockweight"
   ]
  },
  {
   "cell_type": "code",
   "execution_count": null,
   "id": "204ee04a-267a-4102-a87d-fcdba09b088d",
   "metadata": {},
   "outputs": [],
   "source": [
    "# Configuring a Monte Carlo simulation to forecast five years cumulative returns (or can modify to yearstoretirement = desiredretirementage - currentage)\n",
    "MC_fiveyear = MCSimulation(\n",
    "    portfolio_data = df_ticker,\n",
    "    weights = [bondweight,stockweight],\n",
    "    num_simulation = 500,\n",
    "    num_trading_days = 252*5\n",
    ")"
   ]
  },
  {
   "cell_type": "code",
   "execution_count": null,
   "id": "082597fa-d0e7-45a9-89dc-b8bd0222d25e",
   "metadata": {},
   "outputs": [],
   "source": [
    "# Printing the simulation input data\n",
    "MC_fiveyear.portfolio_data.head()"
   ]
  },
  {
   "cell_type": "code",
   "execution_count": null,
   "id": "17129397-de1c-43c7-a36a-d06b9d9d66ec",
   "metadata": {},
   "outputs": [],
   "source": [
    "# Running a Monte Carlo simulation to forecast five years cumulative returns\n",
    "MC_fiveyear.calc_cumulative_return()"
   ]
  },
  {
   "cell_type": "code",
   "execution_count": null,
   "id": "f2dec576-f4f8-4acd-be26-ff966f777b99",
   "metadata": {},
   "outputs": [],
   "source": [
    "# Plot probability distribution and confidence intervals\n",
    "dist_plot = MC_fiveyear.plot_distribution()\n",
    "\n",
    "# Save the plot for future usage\n",
    "dist_plot.get_figure().savefig('MC_fiveyear_dist_plot.png',bbox_inches='tight')"
   ]
  },
  {
   "cell_type": "code",
   "execution_count": null,
   "id": "7df666ac-7801-46e6-b9f4-3776891a609b",
   "metadata": {},
   "outputs": [],
   "source": [
    "# Fetch summary statistics from the Monte Carlo simulation results\n",
    "tbl = MC_fiveyear.summarize_cumulative_return()\n",
    "\n",
    "# Print summary statistics\n",
    "print(tbl)"
   ]
  },
  {
   "cell_type": "code",
   "execution_count": null,
   "id": "723abfab-55d6-4d50-aff7-fc1ade87ea59",
   "metadata": {},
   "outputs": [],
   "source": [
    "# Use the lower and upper `95%` confidence intervals to calculate the range of the possible outcomes of our $10,000 investments in Coca-Cola and Microsoft stocks\n",
    "ci_lower = round(tbl[8]*10000,2)\n",
    "ci_upper = round(tbl[9]*10000,2)\n",
    "\n",
    "# Print results\n",
    "print(f\"There is a 95% chance that an initial investment of $10,000 in the portfolio\"\n",
    "      f\" over the next 5 years will end within in the range of\"\n",
    "      f\" ${ci_lower} and ${ci_upper}\")"
   ]
  }
 ],
 "metadata": {
  "kernelspec": {
   "display_name": "Python 3 (ipykernel)",
   "language": "python",
   "name": "python3"
  },
  "language_info": {
   "codemirror_mode": {
    "name": "ipython",
    "version": 3
   },
   "file_extension": ".py",
   "mimetype": "text/x-python",
   "name": "python",
   "nbconvert_exporter": "python",
   "pygments_lexer": "ipython3",
   "version": "3.7.13"
  }
 },
 "nbformat": 4,
 "nbformat_minor": 5
}
