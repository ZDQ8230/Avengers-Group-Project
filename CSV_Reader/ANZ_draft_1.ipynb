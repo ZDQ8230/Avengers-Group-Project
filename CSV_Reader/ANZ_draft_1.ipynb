{
 "cells": [
  {
   "cell_type": "markdown",
   "id": "7b0e7752-dc96-4421-8c07-435f82a104a0",
   "metadata": {},
   "source": [
    "#### Import Libraries"
   ]
  },
  {
   "cell_type": "code",
   "execution_count": 1,
   "id": "3318a1cb-6975-4907-9c16-3392fdbb6a8a",
   "metadata": {},
   "outputs": [],
   "source": [
    "# Import libraries and dependencies\n",
    "import pandas as pd\n",
    "from pathlib import Path\n",
    "%matplotlib inline"
   ]
  },
  {
   "cell_type": "markdown",
   "id": "78bf9705-bd6c-426f-b2f7-be221be5cbe0",
   "metadata": {},
   "source": [
    "#### Set Filepath"
   ]
  },
  {
   "cell_type": "code",
   "execution_count": 3,
   "id": "a41bbffa-22e6-4a87-b4d5-fb06c8e0c046",
   "metadata": {},
   "outputs": [],
   "source": [
    "# Set the path\n",
    "file_path_1 = Path('ANZ_Test.csv')\n",
    "\n",
    "# Read in the CSV as a DataFrame\n",
    "df = pd.read_csv(file_path_1)"
   ]
  },
  {
   "cell_type": "markdown",
   "id": "a08bf23d-29f4-4908-8e4f-693841be95ab",
   "metadata": {},
   "source": [
    "#### Sort and Clean"
   ]
  },
  {
   "cell_type": "code",
   "execution_count": 4,
   "id": "c2f54310-e03e-4d26-b817-8e3ff3b5e1f6",
   "metadata": {},
   "outputs": [
    {
     "data": {
      "text/plain": [
       "Details\n",
       "ANZ ATM SYDNEY MET CENTRE        SYDNEY       NS                 -2850.00\n",
       "VISA DEBIT PURCHASE CARD 2130 ALDI STORES -                       -832.51\n",
       "VISA DEBIT PURCHASE CARD 2130 TRANSPORTFORNSW OPAL CHIPPENDALE    -780.00\n",
       "EFTPOS ALDI STORES -      AU                                      -758.48\n",
       "VISA DEBIT PURCHASE CARD 2130 NRMA WEB SYDNEY                     -587.94\n",
       "                                                                   ...   \n",
       "PAYMENT FROM Ms Jade  Turtle                                        94.00\n",
       "PAYMENT FROM  HENG-YI BARRY                                        200.00\n",
       "PAYMENT FROM  SING-YI BARRY                                        599.76\n",
       "PAYMENT FROM  H BARRY                                             4132.47\n",
       "PAYMENT FROM  S BARRY                                             5611.42\n",
       "Name: Transaction, Length: 199, dtype: float64"
      ]
     },
     "execution_count": 4,
     "metadata": {},
     "output_type": "execute_result"
    }
   ],
   "source": [
    "#Set a header\n",
    "df.columns = [\"Date\",\"Transaction\",\"Details\"]\n",
    "\n",
    "#Change Datetime and set date as index\n",
    "df.set_index(pd.to_datetime(df['Date'], infer_datetime_format=True), inplace=True)\n",
    "\n",
    "#Drop the Date column\n",
    "df.drop(columns=['Date'], inplace=True)\n",
    "\n",
    "#Drop the Lines that contain \"Transfer\" within Details column\n",
    "df = df[df[\"Details\"].str.contains(\"TRANSFER\") == False]\n",
    "\n",
    "#Group Data by details\n",
    "tes_ = df.groupby('Details')['Transaction'].sum()\n",
    "\n",
    "#Sort ascending\n",
    "tes_.sort_values(axis=0, ascending=True, inplace=False)"
   ]
  },
  {
   "cell_type": "code",
   "execution_count": 4,
   "id": "6a9c31be-b22c-492b-9cdd-89807eab256a",
   "metadata": {},
   "outputs": [
    {
     "data": {
      "text/html": [
       "<div>\n",
       "<style scoped>\n",
       "    .dataframe tbody tr th:only-of-type {\n",
       "        vertical-align: middle;\n",
       "    }\n",
       "\n",
       "    .dataframe tbody tr th {\n",
       "        vertical-align: top;\n",
       "    }\n",
       "\n",
       "    .dataframe thead th {\n",
       "        text-align: right;\n",
       "    }\n",
       "</style>\n",
       "<table border=\"1\" class=\"dataframe\">\n",
       "  <thead>\n",
       "    <tr style=\"text-align: right;\">\n",
       "      <th></th>\n",
       "      <th>Transaction</th>\n",
       "      <th>Details</th>\n",
       "    </tr>\n",
       "    <tr>\n",
       "      <th>Date</th>\n",
       "      <th></th>\n",
       "      <th></th>\n",
       "    </tr>\n",
       "  </thead>\n",
       "  <tbody>\n",
       "    <tr>\n",
       "      <th>2021-06-30</th>\n",
       "      <td>5.00</td>\n",
       "      <td>REVERSAL OF ACCOUNT SERVICING FEE MINIMUM $200...</td>\n",
       "    </tr>\n",
       "    <tr>\n",
       "      <th>2021-06-30</th>\n",
       "      <td>-5.00</td>\n",
       "      <td>ACCOUNT SERVICING FEE</td>\n",
       "    </tr>\n",
       "    <tr>\n",
       "      <th>2021-06-29</th>\n",
       "      <td>467.00</td>\n",
       "      <td>PAYMENT FROM ERIC H JOH</td>\n",
       "    </tr>\n",
       "    <tr>\n",
       "      <th>2021-06-29</th>\n",
       "      <td>466.67</td>\n",
       "      <td>PAYMENT FROM ANNY S JOH</td>\n",
       "    </tr>\n",
       "    <tr>\n",
       "      <th>2021-06-29</th>\n",
       "      <td>-25.18</td>\n",
       "      <td>VISA DEBIT PURCHASE CARD 8041 MISTER GEE BURGE...</td>\n",
       "    </tr>\n",
       "  </tbody>\n",
       "</table>\n",
       "</div>"
      ],
      "text/plain": [
       "            Transaction                                            Details\n",
       "Date                                                                      \n",
       "2021-06-30         5.00  REVERSAL OF ACCOUNT SERVICING FEE MINIMUM $200...\n",
       "2021-06-30        -5.00                              ACCOUNT SERVICING FEE\n",
       "2021-06-29       467.00                            PAYMENT FROM ERIC H JOH\n",
       "2021-06-29       466.67                            PAYMENT FROM ANNY S JOH\n",
       "2021-06-29       -25.18  VISA DEBIT PURCHASE CARD 8041 MISTER GEE BURGE..."
      ]
     },
     "execution_count": 4,
     "metadata": {},
     "output_type": "execute_result"
    }
   ],
   "source": [
    "#Show pd.DataFrame\n",
    "df.head()"
   ]
  },
  {
   "cell_type": "markdown",
   "id": "ab27e8c0-16a7-4fb4-9cca-5e455a7020b0",
   "metadata": {},
   "source": [
    "#### Print"
   ]
  },
  {
   "cell_type": "code",
   "execution_count": 5,
   "id": "3b4d9baf-337b-4682-990c-753c7ff7a81f",
   "metadata": {},
   "outputs": [],
   "source": [
    "# #Print to CSV\n",
    "# tes_.to_csv('concat.csv')"
   ]
  },
  {
   "cell_type": "code",
   "execution_count": null,
   "id": "5b7cd8f8-035c-47b4-b6e0-8a5ba49296ba",
   "metadata": {},
   "outputs": [],
   "source": []
  }
 ],
 "metadata": {
  "kernelspec": {
   "display_name": "fintech",
   "language": "python",
   "name": "fintech"
  },
  "language_info": {
   "codemirror_mode": {
    "name": "ipython",
    "version": 3
   },
   "file_extension": ".py",
   "mimetype": "text/x-python",
   "name": "python",
   "nbconvert_exporter": "python",
   "pygments_lexer": "ipython3",
   "version": "3.7.13"
  }
 },
 "nbformat": 4,
 "nbformat_minor": 5
}
